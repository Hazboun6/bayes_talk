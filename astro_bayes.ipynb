{
 "cells": [
  {
   "cell_type": "code",
   "execution_count": 1,
   "metadata": {
    "collapsed": true,
    "nbpresent": {
     "id": "41d67731-d2bf-4f9e-91f2-641b6e999437"
    },
    "slideshow": {
     "slide_type": "skip"
    }
   },
   "outputs": [],
   "source": [
    "from __future__ import (division, print_function,\n",
    "                        unicode_literals, absolute_import)\n",
    "\n",
    "import numpy as np\n",
    "import scipy.integrate\n",
    "import scipy.stats\n",
    "import matplotlib.pyplot as plt\n",
    "\n",
    "%matplotlib inline"
   ]
  },
  {
   "cell_type": "markdown",
   "metadata": {
    "nbpresent": {
     "id": "aab680ca-6b3d-4948-9596-236ebc9948b7"
    },
    "slideshow": {
     "slide_type": "slide"
    }
   },
   "source": [
    "# Bayesian Statistics for Data Analysis\n",
    "\n",
    "## Paul T. Baker\n",
    "\n",
    "Some resourses I like:\n",
    "\n",
    " * [Allen B Downey, *Think Bayes: Bayesian Statistics Made Simple*, Green Tea Press (2012)](http://greenteapress.com/wp/think-bayes/)\n",
    " * Phil Gregory, *Bayesian Logical Data Analysis for the Physical Sciences: A Comparative Approach*, Cambridge University Press (2010)\n",
    " * William M. Bolstad, *Understanding Computational Bayesian Statistics*, Wiley (2009)"
   ]
  },
  {
   "cell_type": "markdown",
   "metadata": {
    "slideshow": {
     "slide_type": "slide"
    }
   },
   "source": [
    "## Example: fitting a spectral line\n",
    "\n",
    "We have some noisy data containing a possible novel spectral line feature.  The spectrum is measured as a temperature anomaly, $dT_i$ in each frequency channel $\\nu_i$ (relative to the mean observed temperature).\n",
    "\n",
    "Some theory predicts the line will have a gaussian shape:\n",
    "\n",
    "$$dT_i = T_0 \\exp\\left( \\frac{-(\\nu_i-\\nu_0)^2}{2{\\sigma_L}^2} \\right),$$\n",
    "\n",
    "where $T_0$ is the amplitude of the feature, that according to the theory can range from 0.01-100 mK.  The frequency of a channel $\\nu_i$ is recorded as the channel number for our instrument, and the theory says line should appear in channel $\\nu_0=37$ with width $\\sigma_L=2$.\n",
    "\n",
    "Our instrument has white radiometer noise at a level of $\\sigma=1$ mK.\n",
    "\n",
    "<sub>This problem is adapted from an example used in chapter 3 of Gregory (2010).</sub>"
   ]
  },
  {
   "cell_type": "markdown",
   "metadata": {
    "slideshow": {
     "slide_type": "slide"
    }
   },
   "source": [
    "## simulate data\n",
    "\n",
    "$$d_i = dT_i + n_i$$\n",
    "\n",
    "Let's simulate data with a line that has an amplitude of $T_0 = 1.5$ mK."
   ]
  },
  {
   "cell_type": "code",
   "execution_count": 2,
   "metadata": {
    "collapsed": true,
    "slideshow": {
     "slide_type": "fragment"
    }
   },
   "outputs": [],
   "source": [
    "def line_model(v, T0=1.5, v0=37, sigL=2):\n",
    "    \"\"\"compute dT for frequencies, v\"\"\"\n",
    "    v = np.asarray(v)\n",
    "    arg = (0.5*(v-v0)/sigL)**2\n",
    "    return T0 * np.exp(-arg)\n",
    "\n",
    "Tin = 1.5  # T input\n",
    "sigN = 1  # noise stdev\n",
    "\n",
    "N = 64  # number of channels\n",
    "freq = np.arange(N)\n",
    "line = line_model(freq, T0=Tin)\n",
    "noise = np.random.normal(loc=0, scale=sigN, size=N)\n",
    "data = line + noise"
   ]
  },
  {
   "cell_type": "code",
   "execution_count": 3,
   "metadata": {
    "collapsed": true,
    "slideshow": {
     "slide_type": "skip"
    }
   },
   "outputs": [],
   "source": [
    "data = np.loadtxt(\"spec_quiet.dat\")\n",
    "#np.savetxt(\"spec_quiet.dat\", data)"
   ]
  },
  {
   "cell_type": "code",
   "execution_count": 4,
   "metadata": {
    "collapsed": false,
    "nbpresent": {
     "id": "ccc9be45-14c5-4663-88c9-36179b45ae98"
    },
    "slideshow": {
     "slide_type": "subslide"
    }
   },
   "outputs": [
    {
     "data": {
      "image/png": "[encoded data removed]",
      "text/plain": [
       "<matplotlib.figure.Figure at 0x10f06e2e8>"
      ]
     },
     "metadata": {},
     "output_type": "display_data"
    }
   ],
   "source": [
    "fig = plt.figure()\n",
    "ax = fig.add_subplot(111)\n",
    "ax.plot(freq, line, label='model')\n",
    "ax.plot(freq, data, marker='+', linestyle=':', label='data')\n",
    "ax.set_ylabel('dT (mK)')\n",
    "ax.set_xlabel('frequency channel')\n",
    "ax.legend()\n",
    "fig.savefig('spect.pdf')"
   ]
  },
  {
   "cell_type": "markdown",
   "metadata": {
    "slideshow": {
     "slide_type": "slide"
    }
   },
   "source": [
    "## calculate likelihood for noise only\n",
    "$$p\\left(d \\mid \\mathcal{H}_0 \\right) = \\left(\\frac{1}{\\sqrt{2\\pi}\\,\\sigma}\\right)^N \\exp\\left(- \\frac{{d_i}^2}{2{\\sigma}^2}\\right)$$"
   ]
  },
  {
   "cell_type": "code",
   "execution_count": 5,
   "metadata": {
    "collapsed": false,
    "slideshow": {
     "slide_type": "-"
    }
   },
   "outputs": [
    {
     "name": "stdout",
     "output_type": "stream",
     "text": [
      "4.49921254926e-40\n"
     ]
    }
   ],
   "source": [
    "norm = (np.sqrt(2*np.pi)*sigN)**-N\n",
    "arg = 0.5*np.sum(data**2)/sigN**2\n",
    "pdH0 = norm * np.exp(-arg)\n",
    "print(pdH0)"
   ]
  },
  {
   "cell_type": "markdown",
   "metadata": {
    "slideshow": {
     "slide_type": "slide"
    }
   },
   "source": [
    "## calculate likelihood for line model\n",
    "\n",
    "### marginalize over nuisance param $T$\n",
    "$$p\\left(d \\mid \\mathcal{H}_1 \\right) = \\int \\mathrm{d}T \\, p\\left(T \\mid \\mathcal{H}_1 \\right)\\, p\\left( d \\mid \\mathcal{H}_1, T \\right)$$"
   ]
  },
  {
   "cell_type": "markdown",
   "metadata": {
    "slideshow": {
     "slide_type": "fragment"
    }
   },
   "source": [
    "### we will work with $\\log T$ since we don't have any scale information\n",
    "$$p\\left(d \\mid \\mathcal{H}_1 \\right) = \\int \\mathrm{d}\\log T \\, p\\left(\\log T \\mid \\mathcal{H}_1 \\right)\\, p\\left( d \\mid \\mathcal{H}_1, \\log T \\right)$$\n",
    "\n",
    "for this $\\log = \\log_{10}$\n",
    "\n",
    "### assume a uniform prior on $\\log T$ (log-uniform on $T$)\n",
    "$$p\\left(\\log T \\mid \\mathcal{H}_1 \\right) = \\frac{1}{\\Delta \\log T}$$"
   ]
  },
  {
   "cell_type": "markdown",
   "metadata": {
    "slideshow": {
     "slide_type": "subslide"
    }
   },
   "source": [
    "### likelihood as function of $\\log T$\n",
    "modeled line:\n",
    "$$m_i = dT_i = 10^{\\log T} \\, \\exp\\left(- \\frac{(\\nu_i-\\nu_0)^2}{2{\\sigma_L}^2}\\right)$$\n",
    "\n",
    "Gaussian likelihood for residuals\n",
    "$$ p\\left( d \\mid \\mathcal{H}_1, \\log T \\right) = \\left(\\frac{1}{\\sqrt{2\\pi}\\,\\sigma}\\right)^2 \\exp\\left(- \\frac{{(d_i-m_i)}^2}{2{\\sigma}^2}\\right)$$"
   ]
  },
  {
   "cell_type": "code",
   "execution_count": 6,
   "metadata": {
    "collapsed": false,
    "slideshow": {
     "slide_type": "subslide"
    }
   },
   "outputs": [
    {
     "name": "stdout",
     "output_type": "stream",
     "text": [
      "5.57988505581e-38\n"
     ]
    }
   ],
   "source": [
    "logTmin = -2  # 0.01\n",
    "logTmax = +2  # 100\n",
    "dlogT = logTmax - logTmin\n",
    "\n",
    "def integrand(logT):\n",
    "    \"\"\"calculate integrand for given T\"\"\"\n",
    "    pTH1 = 1/dlogT\n",
    "    \n",
    "    model = line_model(freq, T0=10**logT, v0=37, sigL=2)\n",
    "    \n",
    "    norm = (np.sqrt(2*np.pi)*sigN)**-N\n",
    "    resid = data-model\n",
    "    arg = 0.5*np.sum(resid**2)/sigN**2\n",
    "    pdH1T = norm * np.exp(-arg)\n",
    "    \n",
    "    return pdH1T * pTH1\n",
    "\n",
    "logTs = np.linspace(logTmin, logTmax, 1000)  # 1000 pts\n",
    "pdH1T_dat = np.array([integrand(logT) for logT in logTs])  # integrand data\n",
    "\n",
    "pdH1 = scipy.integrate.simps(pdH1T_dat, logTs)  # simpson's integrater!\n",
    "print(pdH1)"
   ]
  },
  {
   "cell_type": "markdown",
   "metadata": {
    "slideshow": {
     "slide_type": "slide"
    }
   },
   "source": [
    "## Bayes factor\n",
    "\n",
    "$$\\mathcal{B}_{1,0} = \\frac{p\\left(d\\mid\\mathcal{H}_1\\right)}{p\\left(d\\mid\\mathcal{H}_0\\right)}$$"
   ]
  },
  {
   "cell_type": "code",
   "execution_count": 7,
   "metadata": {
    "collapsed": false,
    "slideshow": {
     "slide_type": "-"
    }
   },
   "outputs": [
    {
     "name": "stdout",
     "output_type": "stream",
     "text": [
      "Bayes factor = 124.02;  prob = 0.9920\n"
     ]
    }
   ],
   "source": [
    "Bfac = pdH1 / pdH0\n",
    "prob = 1/(1+1/Bfac)\n",
    "print(\"Bayes factor = {0:.2f};  prob = {1:.4f}\".format(Bfac, prob))"
   ]
  },
  {
   "cell_type": "markdown",
   "metadata": {
    "slideshow": {
     "slide_type": "subslide"
    }
   },
   "source": [
    "using **max**-$\\mathcal{L}$ instead of **marginal**-$\\mathcal{L}$ is wrong!\n",
    "\n",
    "does not account for **occam factor**, extra degrees of freedom in line model"
   ]
  },
  {
   "cell_type": "code",
   "execution_count": 8,
   "metadata": {
    "collapsed": false,
    "slideshow": {
     "slide_type": "-"
    }
   },
   "outputs": [
    {
     "name": "stdout",
     "output_type": "stream",
     "text": [
      "L ratio = 400.43;  prob = 0.9975\n"
     ]
    }
   ],
   "source": [
    "maxL = np.max(pdH1T_dat)\n",
    "L_ratio = maxL/pdH0\n",
    "prob_wrong = 1/(1+1/L_ratio)\n",
    "print(\"L ratio = {0:.2f};  prob = {1:.4f}\".format(L_ratio, prob_wrong))"
   ]
  },
  {
   "cell_type": "markdown",
   "metadata": {
    "slideshow": {
     "slide_type": "slide"
    }
   },
   "source": [
    "## Parameter estimation\n",
    "\n",
    "To determine the best fit params we will need the PDF and the CDF of $T$.\n",
    "\n",
    "These can be approximated by hand, but `scipy.stats` provides some nice functions to create an `RV` (random variate) object from a histogram (which we already have from the numerical integral)"
   ]
  },
  {
   "cell_type": "code",
   "execution_count": 9,
   "metadata": {
    "collapsed": false,
    "slideshow": {
     "slide_type": "-"
    }
   },
   "outputs": [],
   "source": [
    "PDF_hist = pdH1T_dat/pdH1  # normalized!\n",
    "PDF_bins = np.hstack([[0], 10**logTs])\n",
    "T_rv = scipy.stats.rv_histogram([PDF_hist, PDF_bins])"
   ]
  },
  {
   "cell_type": "markdown",
   "metadata": {
    "slideshow": {
     "slide_type": "subslide"
    }
   },
   "source": [
    "now we can plot the PDF and CDF for any range of $T$'s we want!"
   ]
  },
  {
   "cell_type": "code",
   "execution_count": 10,
   "metadata": {
    "collapsed": false,
    "slideshow": {
     "slide_type": "-"
    }
   },
   "outputs": [
    {
     "data": {
      "image/png": "[encoded data removed]",
      "text/plain": [
       "<matplotlib.figure.Figure at 0x1111a2c50>"
      ]
     },
     "metadata": {},
     "output_type": "display_data"
    }
   ],
   "source": [
    "Ts = np.linspace(0, 5, 1000)\n",
    "\n",
    "fig = plt.figure()\n",
    "ax = fig.add_subplot(111)\n",
    "ax.plot(Ts, T_rv.pdf(Ts), label=r'PDF of $T$')\n",
    "ax.plot(Ts, T_rv.cdf(Ts), label=r'CDF of $T$')\n",
    "ax.set_ylabel('probability')\n",
    "ax.set_xlabel(r'$T_0$ (mK)')\n",
    "ax.set_xlim([0,4])\n",
    "ax.legend()\n",
    "fig.savefig('T_DFs.pdf')"
   ]
  },
  {
   "cell_type": "markdown",
   "metadata": {
    "slideshow": {
     "slide_type": "subslide"
    }
   },
   "source": [
    "The RV object provides nice functions to compute the median and **credible intervals**."
   ]
  },
  {
   "cell_type": "code",
   "execution_count": 11,
   "metadata": {
    "collapsed": false,
    "scrolled": true,
    "slideshow": {
     "slide_type": "-"
    }
   },
   "outputs": [
    {
     "name": "stdout",
     "output_type": "stream",
     "text": [
      "T = 1.71, 90% CI = (0.98 - 2.44)\n"
     ]
    }
   ],
   "source": [
    "T_med = T_rv.median()\n",
    "T_90 = T_rv.interval(.90)\n",
    "print(\"T = {0:.2f}, 90% CI = ({1:.2f} - {2:.2f})\".format(T_med,*T_90))"
   ]
  },
  {
   "cell_type": "code",
   "execution_count": 12,
   "metadata": {
    "collapsed": false,
    "slideshow": {
     "slide_type": "subslide"
    }
   },
   "outputs": [
    {
     "data": {
      "image/png": "[encoded data removed]",
      "text/plain": [
       "<matplotlib.figure.Figure at 0x1114ff400>"
      ]
     },
     "metadata": {},
     "output_type": "display_data"
    }
   ],
   "source": [
    "fig = plt.figure()\n",
    "ax = fig.add_subplot(111)\n",
    "ax.plot(Ts, T_rv.pdf(Ts), label='PDF')\n",
    "ax.axvline(x=T_med, color = 'k', label='median')\n",
    "ax.axvline(x=T_90[0], color = 'k', linestyle=':', label=r'90% CI')\n",
    "ax.axvline(x=T_90[1], color = 'k', linestyle=':')\n",
    "ax.axvline(x=Tin, color = 'C1', label='input $T_0$')\n",
    "ax.set_ylabel('probability')\n",
    "ax.set_xlabel(r'$T_0$ (mK)')\n",
    "ax.legend()\n",
    "ax.set_xlim([0,4])\n",
    "fig.savefig('T_PE.pdf')"
   ]
  },
  {
   "cell_type": "code",
   "execution_count": 13,
   "metadata": {
    "collapsed": false,
    "slideshow": {
     "slide_type": "skip"
    }
   },
   "outputs": [
    {
     "name": "stdout",
     "output_type": "stream",
     "text": [
      "B = 124.02;  p = 0.9920\n",
      "T = 1.71; -0.73, 0.73\n"
     ]
    }
   ],
   "source": [
    "print(\"B = {0:.2f};  p = {1:.4f}\".format(Bfac, prob))\n",
    "print(\"T = {0:.2f}; {1:.2f}, {2:.2f}\".format(T_med,T_90[0]-T_med,T_90[1]-T_med))"
   ]
  },
  {
   "cell_type": "markdown",
   "metadata": {
    "collapsed": true,
    "slideshow": {
     "slide_type": "slide"
    }
   },
   "source": [
    "# For the paper\n",
    "\n",
    "We find that the spectral line model is favored with a Bayes factor of 124, corresponding to a 99.2% probability.\n",
    "\n",
    "The best fit line amplitude is $T = 1.7 \\pm 0.7$ mK, where the uncertainty represents a 90% credible interval."
   ]
  },
  {
   "cell_type": "code",
   "execution_count": null,
   "metadata": {
    "collapsed": false,
    "slideshow": {
     "slide_type": "skip"
    }
   },
   "outputs": [],
   "source": []
  }
 ],
 "metadata": {
  "anaconda-cloud": {},
  "celltoolbar": "Slideshow",
  "kernelspec": {
   "display_name": "Python [conda root]",
   "language": "python",
   "name": "conda-root-py"
  },
  "language_info": {
   "codemirror_mode": {
    "name": "ipython",
    "version": 3
   },
   "file_extension": ".py",
   "mimetype": "text/x-python",
   "name": "python",
   "nbconvert_exporter": "python",
   "pygments_lexer": "ipython3",
   "version": "3.5.2"
  }
 },
 "nbformat": 4,
 "nbformat_minor": 1
}
