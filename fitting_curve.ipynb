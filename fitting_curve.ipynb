{
 "cells": [
  {
   "cell_type": "markdown",
   "metadata": {
    "slideshow": {
     "slide_type": "slide"
    }
   },
   "source": [
    "# Example: fitting a curve to data"
   ]
  },
  {
   "cell_type": "code",
   "execution_count": 1,
   "metadata": {
    "collapsed": true,
    "slideshow": {
     "slide_type": "-"
    }
   },
   "outputs": [],
   "source": [
    "import numpy as np\n",
    "import matplotlib.pyplot as plt\n",
    "\n",
    "import scipy.integrate\n",
    "import scipy.interpolate\n",
    "\n",
    "%matplotlib inline"
   ]
  },
  {
   "cell_type": "markdown",
   "metadata": {
    "slideshow": {
     "slide_type": "slide"
    }
   },
   "source": [
    "Given some **position v. time** data, and we want to know if the object was moving at constant velocity or accelerating.\n",
    "\n",
    "**constant velocity:**\n",
    "\n",
    "$$x(t) = x_0 + v_0 t$$\n",
    "\n",
    "\n",
    "**constant accleration:**\n",
    "\n",
    "$$x(t) = x_0 + v_0 t + \\frac{1}{2} a_0 t^2$$\n"
   ]
  },
  {
   "cell_type": "markdown",
   "metadata": {
    "slideshow": {
     "slide_type": "subslide"
    }
   },
   "source": [
    "## simulate data\n",
    "\n",
    "Our position measuring instrument has measurement uncertainty at the 4 cm level.\n",
    "\n",
    "We start the object at $x_0 = 0$."
   ]
  },
  {
   "cell_type": "code",
   "execution_count": 2,
   "metadata": {
    "collapsed": true,
    "slideshow": {
     "slide_type": "-"
    }
   },
   "outputs": [],
   "source": [
    "def pos_v_time(t, x0=0, v0=0, a0=0):\n",
    "    \"\"\"position of object undergoing constant acceleration\"\"\"\n",
    "    ts = np.asarray(t)\n",
    "    xs = x0 + v0*ts + 0.5*a0*ts**2\n",
    "    return xs"
   ]
  },
  {
   "cell_type": "code",
   "execution_count": 3,
   "metadata": {
    "collapsed": false,
    "slideshow": {
     "slide_type": "subslide"
    }
   },
   "outputs": [],
   "source": [
    "T = 3.0  # length of data (sec)\n",
    "dx = 4  # cm of meas uncert\n",
    "x0 = 0\n",
    "v0 = 24  # cm/s\n",
    "a0 = 6  # cm/s^2\n",
    "\n",
    "ts = np.arange(0, T, 0.2)\n",
    "xs = pos_v_time(ts, x0, v0, a0)\n",
    "N = len(ts)\n",
    "\n",
    "uncert = np.random.normal(scale=dx, size=N)\n",
    "\n",
    "x_dat = xs + uncert\n",
    "x_dat[0] = 0  # x=0 defined!"
   ]
  },
  {
   "cell_type": "code",
   "execution_count": 4,
   "metadata": {
    "collapsed": true,
    "slideshow": {
     "slide_type": "skip"
    }
   },
   "outputs": [],
   "source": [
    "#np.savetxt('xvt.dat', x_dat)\n",
    "x_dat = np.loadtxt('xvt.dat')"
   ]
  },
  {
   "cell_type": "code",
   "execution_count": 5,
   "metadata": {
    "collapsed": false,
    "slideshow": {
     "slide_type": "subslide"
    }
   },
   "outputs": [
    {
     "data": {
      "text/plain": [
       "<matplotlib.text.Text at 0x10ea9b3c8>"
      ]
     },
     "execution_count": 5,
     "metadata": {},
     "output_type": "execute_result"
    },
    {
     "data": {
      "image/png": "[encoded data removed]",
      "text/plain": [
       "<matplotlib.figure.Figure at 0x10ea6fac8>"
      ]
     },
     "metadata": {},
     "output_type": "display_data"
    }
   ],
   "source": [
    "fig = plt.figure(figsize=(8,4))\n",
    "ax = fig.add_subplot(111)\n",
    "ax.errorbar(ts, x_dat, yerr=dx, fmt=\".k\")\n",
    "ax.set_xlabel('time (sec)')\n",
    "ax.set_ylabel('position (cm)')"
   ]
  },
  {
   "cell_type": "markdown",
   "metadata": {
    "slideshow": {
     "slide_type": "slide"
    }
   },
   "source": [
    "## constant velocity (linear) model\n",
    "\n",
    "$x_0 = 0$ by definition, so there is **one free parameter**, $v$\n",
    "\n",
    "### marginalize over nuisance param $v$\n",
    "$$p\\left(d \\mid \\mathcal{H}_v \\right) = \\int \\mathrm{d}v \\, p\\left(v \\mid \\mathcal{H}_v \\right)\\, p\\left( d \\mid \\mathcal{H}_v, v \\right)$$"
   ]
  },
  {
   "cell_type": "markdown",
   "metadata": {
    "slideshow": {
     "slide_type": "fragment"
    }
   },
   "source": [
    "### calculate likelihood as function of $v$\n",
    "$$m_i = x_i = v\\, t_i$$\n",
    "\n",
    "$$p\\left(d \\mid \\mathcal{H}_v, v \\right) = \\left(\\frac{1}{\\sqrt{2\\pi}\\,\\sigma}\\right)^N \\exp\\left(- \\frac{(d_i-m_i)^2}{2{\\sigma}^2}\\right)$$\n",
    "\n",
    "### assume uniform prior for $v \\in [0,50]$\n",
    "$$p\\left(v \\mid \\mathcal{H}_v \\right) = \\frac{1}{\\Delta v} = \\frac{1}{50}$$"
   ]
  },
  {
   "cell_type": "code",
   "execution_count": 6,
   "metadata": {
    "collapsed": true,
    "slideshow": {
     "slide_type": "subslide"
    }
   },
   "outputs": [],
   "source": [
    "def prob_line(v, dat):\n",
    "    \"\"\"posterior prob(v) for line model\n",
    "    Gaussian likelihood\n",
    "    uniform prior on v [0,50]\n",
    "    \"\"\"\n",
    "    N = len(dat)\n",
    "    if v<0 or v>50:\n",
    "        return 0\n",
    "    else:\n",
    "        prior = 1/50\n",
    "    \n",
    "    mod = pos_v_time(ts, x0=0, v0=v, a0=0)\n",
    "    norm = (np.sqrt(2*np.pi)*dx)**-N\n",
    "    arg = -0.5*np.sum((dat - mod)**2)/dx**2\n",
    "    like = norm * np.exp(arg)\n",
    "    \n",
    "    return prior * like"
   ]
  },
  {
   "cell_type": "markdown",
   "metadata": {
    "slideshow": {
     "slide_type": "subslide"
    }
   },
   "source": [
    "## integrate over $v$ to compute the marginal likelihood"
   ]
  },
  {
   "cell_type": "code",
   "execution_count": 7,
   "metadata": {
    "collapsed": false,
    "slideshow": {
     "slide_type": "-"
    }
   },
   "outputs": [
    {
     "name": "stdout",
     "output_type": "stream",
     "text": [
      "2.74655090628e-22\n"
     ]
    }
   ],
   "source": [
    "vs = np.linspace(0, 50, 200)\n",
    "\n",
    "integrand = [prob_line(v, x_dat) for v in vs]\n",
    "pline = scipy.integrate.simps(integrand, vs)  # simpson's integrater!\n",
    "print(pline)"
   ]
  },
  {
   "cell_type": "markdown",
   "metadata": {
    "slideshow": {
     "slide_type": "subslide"
    }
   },
   "source": [
    "## determine best fit line\n",
    "\n",
    "We can use the posterior probability for $v$ to determine best fit parameter.\n",
    "\n",
    "First, we form the CDF, then determine the median and 90% CI"
   ]
  },
  {
   "cell_type": "code",
   "execution_count": 8,
   "metadata": {
    "collapsed": false,
    "slideshow": {
     "slide_type": "fragment"
    }
   },
   "outputs": [
    {
     "name": "stdout",
     "output_type": "stream",
     "text": [
      "median = 31.66,  90% CI = (30.65 - 32.66)\n"
     ]
    }
   ],
   "source": [
    "pdf_line = integrand/pline  # normalize!\n",
    "dv = vs[1]-vs[0]\n",
    "cdf_line = np.cumsum(pdf_line)*dv\n",
    "\n",
    "idx = cdf_line.searchsorted([0.5, 0.05, 0.95])\n",
    "v_med, v_5, v_95 = vs[idx]\n",
    "print(\"median = {0:.2f},  90% CI = ({1:.2f} - {2:.2f})\".format(v_med, v_5, v_95))\n",
    "\n",
    "bestfit_line = pos_v_time(ts, x0=0, v0=v_med, a0=0)"
   ]
  },
  {
   "cell_type": "code",
   "execution_count": 9,
   "metadata": {
    "collapsed": false,
    "slideshow": {
     "slide_type": "subslide"
    }
   },
   "outputs": [
    {
     "data": {
      "text/plain": [
       "<matplotlib.legend.Legend at 0x110de3860>"
      ]
     },
     "execution_count": 9,
     "metadata": {},
     "output_type": "execute_result"
    },
    {
     "data": {
      "image/png": "[encoded data removed]",
      "text/plain": [
       "<matplotlib.figure.Figure at 0x110aa6f28>"
      ]
     },
     "metadata": {},
     "output_type": "display_data"
    }
   ],
   "source": [
    "fig = plt.figure(figsize=(8,4))\n",
    "ax1 = fig.add_subplot(111)\n",
    "ax1.plot(vs, pdf_line)\n",
    "ax1.set_xlabel(\"velocity (cm/s)\")\n",
    "ax1.axvline(x=v_med, color = 'k', label='median')\n",
    "ax1.axvline(x=v_5, color = 'k', linestyle=':', label=r'90% CI')\n",
    "ax1.axvline(x=v_95, color = 'k', linestyle=':')\n",
    "ax1.set_ylabel('probability')\n",
    "ax1.set_xlim([25, 35])\n",
    "ax1.legend()"
   ]
  },
  {
   "cell_type": "markdown",
   "metadata": {
    "slideshow": {
     "slide_type": "subslide"
    }
   },
   "source": [
    "## Best fit line"
   ]
  },
  {
   "cell_type": "code",
   "execution_count": 10,
   "metadata": {
    "collapsed": false,
    "slideshow": {
     "slide_type": "-"
    }
   },
   "outputs": [
    {
     "data": {
      "text/plain": [
       "<matplotlib.text.Text at 0x110f39898>"
      ]
     },
     "execution_count": 10,
     "metadata": {},
     "output_type": "execute_result"
    },
    {
     "data": {
      "image/png": "[encoded data removed]",
      "text/plain": [
       "<matplotlib.figure.Figure at 0x110f25eb8>"
      ]
     },
     "metadata": {},
     "output_type": "display_data"
    }
   ],
   "source": [
    "fig = plt.figure(figsize=(8,4))\n",
    "ax = fig.add_subplot(111)\n",
    "ax.errorbar(ts, x_dat, yerr=dx, fmt=\".k\")\n",
    "ax.plot(ts, bestfit_line, color='C0')\n",
    "ax.set_xlabel('time (sec)')\n",
    "ax.set_ylabel('position (cm)')"
   ]
  },
  {
   "cell_type": "markdown",
   "metadata": {
    "slideshow": {
     "slide_type": "slide"
    }
   },
   "source": [
    "## constant acceleration (quadratic) model\n",
    "\n",
    "again $x_0 = 0$, so there are **two free parameter**, $v$ and $a$\n",
    "\n",
    "### marginalize over all nuisance params\n",
    "$$p\\left(d \\mid \\mathcal{H}_a \\right) = \\int \\mathrm{d}v\\,\\mathrm{d}a \\, p\\left(v \\mid \\mathcal{H}_a \\right)\\, p\\left(a \\mid \\mathcal{H}_a \\right)\\, p\\left( d \\mid \\mathcal{H}_a, v, a \\right)$$"
   ]
  },
  {
   "cell_type": "markdown",
   "metadata": {
    "slideshow": {
     "slide_type": "fragment"
    }
   },
   "source": [
    "### Gaussian likelihood as function of $v$ and $a$\n",
    "$$m_i = x_i = v\\, t_i + \\frac{1}{2} a\\, {t_1}^2$$\n",
    "\n",
    "$$p\\left(d \\mid \\mathcal{H}_a, v, a \\right) = \\left(\\frac{1}{\\sqrt{2\\pi}\\,\\sigma}\\right)^N \\exp\\left(- \\frac{(d_i-m_i)^2}{2{\\sigma}^2}\\right)$$\n",
    "\n",
    "### assume uniform priors for $v \\in [0,50]$ and $a \\in [-5,15]$\n",
    "$$p\\left(v \\mid \\mathcal{H}_a \\right) = \\frac{1}{\\Delta v} = \\frac{1}{50}, \\quad\\quad\n",
    "p\\left(a \\mid \\mathcal{H}_a \\right) = \\frac{1}{\\Delta a} = \\frac{1}{20}$$"
   ]
  },
  {
   "cell_type": "code",
   "execution_count": 11,
   "metadata": {
    "collapsed": true,
    "slideshow": {
     "slide_type": "subslide"
    }
   },
   "outputs": [],
   "source": [
    "def prob_quad(params, dat):\n",
    "    \"\"\"posterior prob(v,a) for quadratic model\n",
    "    Gaussian likelihood for params\n",
    "    uniform prior on v [0,50]\n",
    "    uniform prior on a [-5,15]\n",
    "    \"\"\"\n",
    "    N = len(dat)\n",
    "    v, a = params\n",
    "    if v<0 or v>50 or a<-5 or a>15:\n",
    "        return 0\n",
    "    else:\n",
    "        prior = 1/50 * 1/20  # p(v)*p(a)\n",
    "    \n",
    "    mod = pos_v_time(ts, x0=0, v0=v, a0=a)\n",
    "    norm = (np.sqrt(2*np.pi)*dx)**-N\n",
    "    arg = -0.5*np.sum((dat - mod)**2)/dx**2\n",
    "    like = norm * np.exp(arg)\n",
    "        \n",
    "    return prior * like"
   ]
  },
  {
   "cell_type": "markdown",
   "metadata": {
    "slideshow": {
     "slide_type": "subslide"
    }
   },
   "source": [
    "## integrate over $v$ and $a$ to compute the marginal likelihood"
   ]
  },
  {
   "cell_type": "code",
   "execution_count": 12,
   "metadata": {
    "collapsed": false,
    "slideshow": {
     "slide_type": "-"
    }
   },
   "outputs": [],
   "source": [
    "vs = np.linspace(0, 50, 200)\n",
    "As = np.linspace(-5, 15, 200)\n",
    "\n",
    "prob_pts = np.zeros((len(vs), len(As)))\n",
    "for ii, v in enumerate(vs):\n",
    "    for jj, a in enumerate(As):\n",
    "        prob_pts[ii,jj] = prob_quad([v,a], x_dat)"
   ]
  },
  {
   "cell_type": "code",
   "execution_count": 13,
   "metadata": {
    "collapsed": false,
    "slideshow": {
     "slide_type": "-"
    }
   },
   "outputs": [
    {
     "name": "stdout",
     "output_type": "stream",
     "text": [
      "9.089818499937449e-21\n"
     ]
    }
   ],
   "source": [
    "interp_obj = scipy.interpolate.RectBivariateSpline(vs, As, prob_pts)\n",
    "pquad = interp_obj.integral(0, 50, -10, 10)\n",
    "print(pquad)"
   ]
  },
  {
   "cell_type": "markdown",
   "metadata": {
    "slideshow": {
     "slide_type": "subslide"
    }
   },
   "source": [
    "## compute the odds ratio for the acceleration model"
   ]
  },
  {
   "cell_type": "code",
   "execution_count": 14,
   "metadata": {
    "collapsed": false,
    "slideshow": {
     "slide_type": "-"
    }
   },
   "outputs": [
    {
     "name": "stdout",
     "output_type": "stream",
     "text": [
      "Oquad = 33;  prob = 0.9707\n"
     ]
    }
   ],
   "source": [
    "Odds = pquad/pline\n",
    "prob = 1/(1 + 1/Odds)\n",
    "print(\"Oquad = {0:.0f};  prob = {1:.4f}\".format(Odds, prob))"
   ]
  },
  {
   "cell_type": "markdown",
   "metadata": {
    "slideshow": {
     "slide_type": "subslide"
    }
   },
   "source": [
    "## the posterior for $v$ and $a$ is 2D"
   ]
  },
  {
   "cell_type": "code",
   "execution_count": 15,
   "metadata": {
    "collapsed": false,
    "slideshow": {
     "slide_type": "-"
    }
   },
   "outputs": [
    {
     "data": {
      "text/plain": [
       "<matplotlib.text.Text at 0x110f0a828>"
      ]
     },
     "execution_count": 15,
     "metadata": {},
     "output_type": "execute_result"
    },
    {
     "data": {
      "image/png": "[encoded data removed]",
      "text/plain": [
       "<matplotlib.figure.Figure at 0x1110114e0>"
      ]
     },
     "metadata": {},
     "output_type": "display_data"
    }
   ],
   "source": [
    "plt.pcolormesh(As, vs, prob_pts, cmap='YlOrRd')\n",
    "plt.xlabel(\"acceleration (cm/s$^2$)\")\n",
    "plt.ylabel(\"velocity (cm/s)\")"
   ]
  },
  {
   "cell_type": "markdown",
   "metadata": {
    "slideshow": {
     "slide_type": "subslide"
    }
   },
   "source": [
    "## Determin best fit parameters from PDF and CDF"
   ]
  },
  {
   "cell_type": "code",
   "execution_count": 16,
   "metadata": {
    "collapsed": false
   },
   "outputs": [
    {
     "name": "stdout",
     "output_type": "stream",
     "text": [
      "accel: median = 6.96,  90% CI = (3.34 - 10.68)\n",
      "vel: median = 24.12,  90% CI = (19.85 - 28.14)\n"
     ]
    }
   ],
   "source": [
    "apost = scipy.integrate.simps(prob_pts, x=As, axis=0)\n",
    "vpost = scipy.integrate.simps(prob_pts, x=vs, axis=1)\n",
    "\n",
    "a_cdf = np.cumsum(apost) / np.sum(apost)  # normalize\n",
    "v_cdf = np.cumsum(vpost) / np.sum(vpost)\n",
    "\n",
    "idx_a = a_cdf.searchsorted([0.5, 0.05, 0.95])\n",
    "idx_v = v_cdf.searchsorted([0.5, 0.05, 0.95])\n",
    "\n",
    "a_med, a_5, a_95 = As[idx_a]\n",
    "v_med, v_5, v_95 = vs[idx_v]\n",
    "print(\"accel: median = {0:.2f},  90% CI = ({1:.2f} - {2:.2f})\".format(a_med, a_5, a_95))\n",
    "print(\"vel: median = {0:.2f},  90% CI = ({1:.2f} - {2:.2f})\".format(v_med, v_5, v_95))\n",
    "\n",
    "bestfit_quad = pos_v_time(ts, x0=0, v0=v_med, a0=a_med)"
   ]
  },
  {
   "cell_type": "code",
   "execution_count": 17,
   "metadata": {
    "collapsed": false,
    "slideshow": {
     "slide_type": "subslide"
    }
   },
   "outputs": [
    {
     "data": {
      "text/plain": [
       "<matplotlib.legend.Legend at 0x11182a1d0>"
      ]
     },
     "execution_count": 17,
     "metadata": {},
     "output_type": "execute_result"
    },
    {
     "data": {
      "image/png": "[encoded data removed]",
      "text/plain": [
       "<matplotlib.figure.Figure at 0x1115a8898>"
      ]
     },
     "metadata": {},
     "output_type": "display_data"
    }
   ],
   "source": [
    "fig = plt.figure(figsize=(12,4))\n",
    "ax1 = fig.add_subplot(121)\n",
    "ax1.plot(As, apost)\n",
    "ax1.set_xlabel(\"acceleration (cm/s$^2$)\")\n",
    "ax1.axvline(x=a_med, color = 'k', label='median')\n",
    "ax1.axvline(x=a_5, color = 'k', linestyle=':', label=r'90% CI')\n",
    "ax1.axvline(x=a_95, color = 'k', linestyle=':')\n",
    "ax1.axvline(x=a0, color = 'C1', label='input $a_0$')\n",
    "ax1.set_ylabel('probability')\n",
    "ax1.legend()\n",
    "\n",
    "ax2 = fig.add_subplot(122)\n",
    "ax2.plot(vs, vpost)\n",
    "ax2.set_xlabel(\"initial velocity (cm/s)\")\n",
    "ax2.axvline(x=v_med, color = 'k', label='median')\n",
    "ax2.axvline(x=v_5, color = 'k', linestyle=':', label=r'90% CI')\n",
    "ax2.axvline(x=v_95, color = 'k', linestyle=':')\n",
    "ax2.axvline(x=v0, color = 'C1', label='input $v_0$')\n",
    "ax2.legend()\n"
   ]
  },
  {
   "cell_type": "markdown",
   "metadata": {
    "slideshow": {
     "slide_type": "subslide"
    }
   },
   "source": [
    "## best fit quadratic"
   ]
  },
  {
   "cell_type": "code",
   "execution_count": 18,
   "metadata": {
    "collapsed": false,
    "slideshow": {
     "slide_type": "-"
    }
   },
   "outputs": [
    {
     "data": {
      "text/plain": [
       "<matplotlib.text.Text at 0x11198c3c8>"
      ]
     },
     "execution_count": 18,
     "metadata": {},
     "output_type": "execute_result"
    },
    {
     "data": {
      "image/png": "[encoded data removed]",
      "text/plain": [
       "<matplotlib.figure.Figure at 0x111984b38>"
      ]
     },
     "metadata": {},
     "output_type": "display_data"
    }
   ],
   "source": [
    "fig = plt.figure(figsize=(8,4))\n",
    "ax = fig.add_subplot(111)\n",
    "ax.errorbar(ts, x_dat, yerr=dx, fmt=\".k\")\n",
    "ax.plot(ts, bestfit_quad, color='C1')\n",
    "ax.set_xlabel('time (sec)')\n",
    "ax.set_ylabel('position (cm)')"
   ]
  },
  {
   "cell_type": "code",
   "execution_count": 19,
   "metadata": {
    "collapsed": false,
    "slideshow": {
     "slide_type": "skip"
    }
   },
   "outputs": [
    {
     "name": "stdout",
     "output_type": "stream",
     "text": [
      "33.095394224 0.970670525367\n",
      "24.1206030151 -4.27135678392 4.02010050251\n",
      "6.95979899497 -3.61809045226 3.71859296482\n"
     ]
    }
   ],
   "source": [
    "print(Odds, prob)\n",
    "print(v_med, v_5-v_med, v_95-v_med)\n",
    "print(a_med, a_5-a_med, a_95-a_med)"
   ]
  },
  {
   "cell_type": "markdown",
   "metadata": {
    "slideshow": {
     "slide_type": "slide"
    }
   },
   "source": [
    "## For your abstract\n",
    "\n",
    "Acceleration was favored over constant velocity with a Bayes factor of 33, corresponding to 97% probability.\n",
    "\n",
    "We measured $v_0 = 24.1^{+4.0}_{-4.3}$ cm/s and $a_0 = 7.0^{+3.7}_{-3.6}$ cm/s$^2$, where ranges represent 90% credible intervals."
   ]
  },
  {
   "cell_type": "markdown",
   "metadata": {
    "slideshow": {
     "slide_type": "subslide"
    }
   },
   "source": [
    "## compare line and quadratic"
   ]
  },
  {
   "cell_type": "code",
   "execution_count": 20,
   "metadata": {
    "collapsed": false,
    "slideshow": {
     "slide_type": "-"
    }
   },
   "outputs": [
    {
     "data": {
      "image/png": "[encoded data removed]",
      "text/plain": [
       "<matplotlib.figure.Figure at 0x11198ccf8>"
      ]
     },
     "metadata": {},
     "output_type": "display_data"
    }
   ],
   "source": [
    "fig = plt.figure(figsize=(8,4))\n",
    "ax = fig.add_subplot(111)\n",
    "ax.errorbar(ts, x_dat, yerr=dx, fmt=\".k\")\n",
    "ax.plot(ts, bestfit_line, color='C0', label='const $v$')\n",
    "ax.plot(ts, bestfit_quad, color='C1', label='accel')\n",
    "ax.set_xlabel('time (sec)')\n",
    "ax.set_ylabel('position (cm)')\n",
    "ax.legend();"
   ]
  },
  {
   "cell_type": "code",
   "execution_count": null,
   "metadata": {
    "collapsed": true,
    "slideshow": {
     "slide_type": "skip"
    }
   },
   "outputs": [],
   "source": []
  }
 ],
 "metadata": {
  "anaconda-cloud": {},
  "celltoolbar": "Slideshow",
  "kernelspec": {
   "display_name": "Python [conda root]",
   "language": "python",
   "name": "conda-root-py"
  },
  "language_info": {
   "codemirror_mode": {
    "name": "ipython",
    "version": 3
   },
   "file_extension": ".py",
   "mimetype": "text/x-python",
   "name": "python",
   "nbconvert_exporter": "python",
   "pygments_lexer": "ipython3",
   "version": "3.5.2"
  }
 },
 "nbformat": 4,
 "nbformat_minor": 1
}
